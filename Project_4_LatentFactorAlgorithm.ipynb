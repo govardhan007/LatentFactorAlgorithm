{
  "nbformat": 4,
  "nbformat_minor": 0,
  "metadata": {
    "colab": {
      "provenance": []
    },
    "kernelspec": {
      "name": "python3",
      "display_name": "Python 3"
    },
    "language_info": {
      "name": "python"
    }
  },
  "cells": [
    {
      "cell_type": "code",
      "metadata": {
        "id": "RMfXIseCMfYH"
      },
      "source": [
        "# importing necessary libaries\n",
        "import os\n",
        "import time\n",
        "import random\n",
        "import numpy as np\n",
        "import pandas as pd\n",
        "import collections\n",
        "import matplotlib.pyplot as plt\n",
        "import seaborn as sns\n",
        "import matplotlib.ticker as ticker\n",
        "from shutil import copyfile\n",
        "from random import randrange\n",
        "from sklearn.metrics import mean_squared_error"
      ],
      "execution_count": null,
      "outputs": []
    },
    {
      "cell_type": "code",
      "metadata": {
        "id": "oq3RfZ-f66Wq"
      },
      "source": [
        "#implementing functions for init, predicting rating and calculating RMSE\n",
        "class latentfactormodel:\n",
        "  #initialize the matrices P and Q with random initialization\n",
        "  def __init__(self, num_items, num_users, num_factors, init_scale=5.0):\n",
        "\n",
        "    self.num_factors = num_factors\n",
        "    #creating instances for the class latentfactor\n",
        "    self.Q = np.random.rand(num_factors, num_items+1)*np.sqrt(init_scale/num_factors)\n",
        "    self.P = np.random.rand(num_factors, num_users+1)*np.sqrt(init_scale/num_factors)\n",
        "    #to predict the rating\n",
        "  def error(self, ratings):\n",
        "    # compute the RMSE\n",
        "    ratings_true = []\n",
        "    ratings_predicted = []\n",
        "    for user_id, item_id, rating_true in ratings:\n",
        "      rating_predicted = self.predict(user_id, item_id)\n",
        "      ratings_true.append(rating_true)\n",
        "      ratings_predicted.append(rating_predicted)\n",
        "    rmse = self.RMSE(ratings_true, ratings_predicted)\n",
        "    return rmse\n",
        "  #predicting rating based on user_id and item_id\n",
        "  def predict(self, user_id, item_id):\n",
        "    r = np.sum(self.Q[:,item_id] * self.P[:,user_id])\n",
        "    return r\n",
        "  #calculating the cost function\n",
        "  def cost(self, ratings, lambda_):\n",
        "    ratings_true = []\n",
        "    ratings_predicted = []\n",
        "    for user_id, item_id, rating_true in ratings:\n",
        "      rating_predicted = self.predict(user_id, item_id)\n",
        "      ratings_true.append(rating_true)\n",
        "      ratings_predicted.append(rating_predicted)\n",
        "    cost = 0\n",
        "    cost += np.sum((np.array(ratings_true) - np.array(rating_predicted))**2)\n",
        "    cost += lambda_*np.sum(self.P**2)\n",
        "    cost += lambda_*np.sum(self.Q**2)\n",
        "    return cost\n",
        "   # calculating the RMSE between actual and predicted rating\n",
        "  def RMSE(self, y_actual, y_predicted):\n",
        "    rms = np.sqrt(mean_squared_error(y_actual, y_predicted))\n",
        "    return round(rms,4)\n",
        "  # Stochastic gradient descent\n",
        "  def step(self,user_id, item_id, rating_true, mu, lambda_):\n",
        "    error_ui = (rating_true - self.predict(user_id,item_id))\n",
        "    self.P[:,user_id] += mu*(error_ui*self.Q[:,item_id] - lambda_*self.P[:,user_id])\n",
        "    self.Q[:,item_id] += mu*(error_ui*self.P[:,user_id] - lambda_*self.Q[:,item_id])\n",
        "\n",
        "\n",
        ""
      ],
      "execution_count": null,
      "outputs": []
    },
    {
      "cell_type": "code",
      "metadata": {
        "id": "gAD0yJMSOswY"
      },
      "source": [
        "def step(self,user_id, item_id, rating_true, mu, lambda_):\n",
        "    # perform one iteration of SGD for one example in the train dataset\n",
        "    error_ui = (rating_true - self.predict(user_id,item_id))\n",
        "    self.P[:,user_id] += mu*(error_ui*self.Q[:,item_id] - lambda_*self.P[:,user_id])\n",
        "    self.Q[:,item_id] += mu*(error_ui*self.P[:,user_id] - lambda_*self.Q[:,item_id])"
      ],
      "execution_count": null,
      "outputs": []
    },
    {
      "cell_type": "code",
      "metadata": {
        "id": "rRDVZnm-P8PJ"
      },
      "source": [
        "training_data = 'training_dataset.csv'\n",
        "testing_data = 'test_dataset.csv'\n"
      ],
      "execution_count": null,
      "outputs": []
    },
    {
      "cell_type": "code",
      "metadata": {
        "colab": {
          "base_uri": "https://localhost:8080/",
          "height": 266
        },
        "id": "FZtzKdrhP_AL",
        "outputId": "ffe5f67b-a89d-4bd0-b977-5d0b7feebfee"
      },
      "source": [
        "#reading data as a dataframe\n",
        "train_data = pd.read_csv(training_data)\n",
        "train_data.head(7)"
      ],
      "execution_count": null,
      "outputs": [
        {
          "output_type": "execute_result",
          "data": {
            "text/html": [
              "<div>\n",
              "<style scoped>\n",
              "    .dataframe tbody tr th:only-of-type {\n",
              "        vertical-align: middle;\n",
              "    }\n",
              "\n",
              "    .dataframe tbody tr th {\n",
              "        vertical-align: top;\n",
              "    }\n",
              "\n",
              "    .dataframe thead th {\n",
              "        text-align: right;\n",
              "    }\n",
              "</style>\n",
              "<table border=\"1\" class=\"dataframe\">\n",
              "  <thead>\n",
              "    <tr style=\"text-align: right;\">\n",
              "      <th></th>\n",
              "      <th>user_id</th>\n",
              "      <th>item_id</th>\n",
              "      <th>rating</th>\n",
              "      <th>movie_name</th>\n",
              "    </tr>\n",
              "  </thead>\n",
              "  <tbody>\n",
              "    <tr>\n",
              "      <th>0</th>\n",
              "      <td>527</td>\n",
              "      <td>200</td>\n",
              "      <td>3</td>\n",
              "      <td>Shining, The (1980)</td>\n",
              "    </tr>\n",
              "    <tr>\n",
              "      <th>1</th>\n",
              "      <td>407</td>\n",
              "      <td>25</td>\n",
              "      <td>3</td>\n",
              "      <td>Birdcage, The (1996)</td>\n",
              "    </tr>\n",
              "    <tr>\n",
              "      <th>2</th>\n",
              "      <td>533</td>\n",
              "      <td>462</td>\n",
              "      <td>2</td>\n",
              "      <td>Like Water For Chocolate (Como agua para choco...</td>\n",
              "    </tr>\n",
              "    <tr>\n",
              "      <th>3</th>\n",
              "      <td>537</td>\n",
              "      <td>1048</td>\n",
              "      <td>2</td>\n",
              "      <td>She's the One (1996)</td>\n",
              "    </tr>\n",
              "    <tr>\n",
              "      <th>4</th>\n",
              "      <td>374</td>\n",
              "      <td>932</td>\n",
              "      <td>1</td>\n",
              "      <td>First Kid (1996)</td>\n",
              "    </tr>\n",
              "    <tr>\n",
              "      <th>5</th>\n",
              "      <td>498</td>\n",
              "      <td>262</td>\n",
              "      <td>2</td>\n",
              "      <td>In the Company of Men (1997)</td>\n",
              "    </tr>\n",
              "    <tr>\n",
              "      <th>6</th>\n",
              "      <td>592</td>\n",
              "      <td>196</td>\n",
              "      <td>5</td>\n",
              "      <td>Dead Poets Society (1989)</td>\n",
              "    </tr>\n",
              "  </tbody>\n",
              "</table>\n",
              "</div>"
            ],
            "text/plain": [
              "   user_id  item_id  rating                                         movie_name\n",
              "0      527      200       3                                Shining, The (1980)\n",
              "1      407       25       3                               Birdcage, The (1996)\n",
              "2      533      462       2  Like Water For Chocolate (Como agua para choco...\n",
              "3      537     1048       2                               She's the One (1996)\n",
              "4      374      932       1                                   First Kid (1996)\n",
              "5      498      262       2                       In the Company of Men (1997)\n",
              "6      592      196       5                          Dead Poets Society (1989)"
            ]
          },
          "metadata": {},
          "execution_count": 8
        }
      ]
    },
    {
      "cell_type": "code",
      "metadata": {
        "colab": {
          "base_uri": "https://localhost:8080/",
          "height": 266
        },
        "id": "F20QS0mwQN7V",
        "outputId": "83c9834c-e8cb-4db3-9f8b-66a024f78d97"
      },
      "source": [
        "#reading data as a dataframe\n",
        "test_data = pd.read_csv(testing_data)\n",
        "test_data.head(7)"
      ],
      "execution_count": null,
      "outputs": [
        {
          "output_type": "execute_result",
          "data": {
            "text/html": [
              "<div>\n",
              "<style scoped>\n",
              "    .dataframe tbody tr th:only-of-type {\n",
              "        vertical-align: middle;\n",
              "    }\n",
              "\n",
              "    .dataframe tbody tr th {\n",
              "        vertical-align: top;\n",
              "    }\n",
              "\n",
              "    .dataframe thead th {\n",
              "        text-align: right;\n",
              "    }\n",
              "</style>\n",
              "<table border=\"1\" class=\"dataframe\">\n",
              "  <thead>\n",
              "    <tr style=\"text-align: right;\">\n",
              "      <th></th>\n",
              "      <th>user_id</th>\n",
              "      <th>item_id</th>\n",
              "      <th>rating</th>\n",
              "      <th>movie_name</th>\n",
              "    </tr>\n",
              "  </thead>\n",
              "  <tbody>\n",
              "    <tr>\n",
              "      <th>0</th>\n",
              "      <td>181</td>\n",
              "      <td>258</td>\n",
              "      <td>3</td>\n",
              "      <td>Contact (1997)</td>\n",
              "    </tr>\n",
              "    <tr>\n",
              "      <th>1</th>\n",
              "      <td>320</td>\n",
              "      <td>588</td>\n",
              "      <td>3</td>\n",
              "      <td>Beauty and the Beast (1991)</td>\n",
              "    </tr>\n",
              "    <tr>\n",
              "      <th>2</th>\n",
              "      <td>560</td>\n",
              "      <td>121</td>\n",
              "      <td>3</td>\n",
              "      <td>Independence Day (ID4) (1996)</td>\n",
              "    </tr>\n",
              "    <tr>\n",
              "      <th>3</th>\n",
              "      <td>200</td>\n",
              "      <td>812</td>\n",
              "      <td>4</td>\n",
              "      <td>Andre (1994)</td>\n",
              "    </tr>\n",
              "    <tr>\n",
              "      <th>4</th>\n",
              "      <td>614</td>\n",
              "      <td>294</td>\n",
              "      <td>4</td>\n",
              "      <td>Liar Liar (1997)</td>\n",
              "    </tr>\n",
              "    <tr>\n",
              "      <th>5</th>\n",
              "      <td>825</td>\n",
              "      <td>1011</td>\n",
              "      <td>3</td>\n",
              "      <td>2 Days in the Valley (1996)</td>\n",
              "    </tr>\n",
              "    <tr>\n",
              "      <th>6</th>\n",
              "      <td>707</td>\n",
              "      <td>12</td>\n",
              "      <td>3</td>\n",
              "      <td>Usual Suspects, The (1995)</td>\n",
              "    </tr>\n",
              "  </tbody>\n",
              "</table>\n",
              "</div>"
            ],
            "text/plain": [
              "   user_id  item_id  rating                     movie_name\n",
              "0      181      258       3                 Contact (1997)\n",
              "1      320      588       3    Beauty and the Beast (1991)\n",
              "2      560      121       3  Independence Day (ID4) (1996)\n",
              "3      200      812       4                   Andre (1994)\n",
              "4      614      294       4               Liar Liar (1997)\n",
              "5      825     1011       3    2 Days in the Valley (1996)\n",
              "6      707       12       3     Usual Suspects, The (1995)"
            ]
          },
          "metadata": {},
          "execution_count": 9
        }
      ]
    },
    {
      "cell_type": "code",
      "metadata": {
        "colab": {
          "base_uri": "https://localhost:8080/",
          "height": 204
        },
        "id": "1Bg6_wJp7cL1",
        "outputId": "8c71020f-28a9-4ca2-e227-c0e0f1f2b52d"
      },
      "source": [
        "#removing movie name column from the datasets\n",
        "# import train and since we do not need name of the movie column we just exclude it while reading it into the train and test data\n",
        "train_data = pd.read_csv(training_data,usecols=[0, 1, 2])\n",
        "# import train and since we do not need name of the movie column we just exclude it while reading it into the train and test data\n",
        "test_data = pd.read_csv(testing_data,usecols=[0, 1, 2])\n",
        "train_data.head()\n",
        "\n",
        "\n"
      ],
      "execution_count": null,
      "outputs": [
        {
          "output_type": "execute_result",
          "data": {
            "text/html": [
              "<div>\n",
              "<style scoped>\n",
              "    .dataframe tbody tr th:only-of-type {\n",
              "        vertical-align: middle;\n",
              "    }\n",
              "\n",
              "    .dataframe tbody tr th {\n",
              "        vertical-align: top;\n",
              "    }\n",
              "\n",
              "    .dataframe thead th {\n",
              "        text-align: right;\n",
              "    }\n",
              "</style>\n",
              "<table border=\"1\" class=\"dataframe\">\n",
              "  <thead>\n",
              "    <tr style=\"text-align: right;\">\n",
              "      <th></th>\n",
              "      <th>user_id</th>\n",
              "      <th>item_id</th>\n",
              "      <th>rating</th>\n",
              "    </tr>\n",
              "  </thead>\n",
              "  <tbody>\n",
              "    <tr>\n",
              "      <th>0</th>\n",
              "      <td>527</td>\n",
              "      <td>200</td>\n",
              "      <td>3</td>\n",
              "    </tr>\n",
              "    <tr>\n",
              "      <th>1</th>\n",
              "      <td>407</td>\n",
              "      <td>25</td>\n",
              "      <td>3</td>\n",
              "    </tr>\n",
              "    <tr>\n",
              "      <th>2</th>\n",
              "      <td>533</td>\n",
              "      <td>462</td>\n",
              "      <td>2</td>\n",
              "    </tr>\n",
              "    <tr>\n",
              "      <th>3</th>\n",
              "      <td>537</td>\n",
              "      <td>1048</td>\n",
              "      <td>2</td>\n",
              "    </tr>\n",
              "    <tr>\n",
              "      <th>4</th>\n",
              "      <td>374</td>\n",
              "      <td>932</td>\n",
              "      <td>1</td>\n",
              "    </tr>\n",
              "  </tbody>\n",
              "</table>\n",
              "</div>"
            ],
            "text/plain": [
              "   user_id  item_id  rating\n",
              "0      527      200       3\n",
              "1      407       25       3\n",
              "2      533      462       2\n",
              "3      537     1048       2\n",
              "4      374      932       1"
            ]
          },
          "metadata": {},
          "execution_count": 10
        }
      ]
    },
    {
      "cell_type": "code",
      "metadata": {
        "colab": {
          "base_uri": "https://localhost:8080/",
          "height": 204
        },
        "id": "jL-U8q2ZXfRL",
        "outputId": "f8666480-968d-4369-e87a-26d3828f350e"
      },
      "source": [
        "test_data.head()"
      ],
      "execution_count": null,
      "outputs": [
        {
          "output_type": "execute_result",
          "data": {
            "text/html": [
              "<div>\n",
              "<style scoped>\n",
              "    .dataframe tbody tr th:only-of-type {\n",
              "        vertical-align: middle;\n",
              "    }\n",
              "\n",
              "    .dataframe tbody tr th {\n",
              "        vertical-align: top;\n",
              "    }\n",
              "\n",
              "    .dataframe thead th {\n",
              "        text-align: right;\n",
              "    }\n",
              "</style>\n",
              "<table border=\"1\" class=\"dataframe\">\n",
              "  <thead>\n",
              "    <tr style=\"text-align: right;\">\n",
              "      <th></th>\n",
              "      <th>user_id</th>\n",
              "      <th>item_id</th>\n",
              "      <th>rating</th>\n",
              "    </tr>\n",
              "  </thead>\n",
              "  <tbody>\n",
              "    <tr>\n",
              "      <th>0</th>\n",
              "      <td>181</td>\n",
              "      <td>258</td>\n",
              "      <td>3</td>\n",
              "    </tr>\n",
              "    <tr>\n",
              "      <th>1</th>\n",
              "      <td>320</td>\n",
              "      <td>588</td>\n",
              "      <td>3</td>\n",
              "    </tr>\n",
              "    <tr>\n",
              "      <th>2</th>\n",
              "      <td>560</td>\n",
              "      <td>121</td>\n",
              "      <td>3</td>\n",
              "    </tr>\n",
              "    <tr>\n",
              "      <th>3</th>\n",
              "      <td>200</td>\n",
              "      <td>812</td>\n",
              "      <td>4</td>\n",
              "    </tr>\n",
              "    <tr>\n",
              "      <th>4</th>\n",
              "      <td>614</td>\n",
              "      <td>294</td>\n",
              "      <td>4</td>\n",
              "    </tr>\n",
              "  </tbody>\n",
              "</table>\n",
              "</div>"
            ],
            "text/plain": [
              "   user_id  item_id  rating\n",
              "0      181      258       3\n",
              "1      320      588       3\n",
              "2      560      121       3\n",
              "3      200      812       4\n",
              "4      614      294       4"
            ]
          },
          "metadata": {},
          "execution_count": 11
        }
      ]
    },
    {
      "cell_type": "code",
      "metadata": {
        "colab": {
          "base_uri": "https://localhost:8080/"
        },
        "id": "0DniVirtXTL6",
        "outputId": "f4b388fe-0430-4bef-c5e9-716fbfad245a"
      },
      "source": [
        "#finding the number of users by maximum function in test and train data\n",
        "num_users = max(train_data.user_id.max(), test_data.user_id.max())\n",
        "num_items = max(train_data.item_id.max(), test_data.item_id.max())\n",
        "#average rating of all the users in train data\n",
        "global_mean = train_data.rating.mean()\n",
        "train_data, test_data = train_data.values, test_data.values\n",
        "train_data.shape"
      ],
      "execution_count": null,
      "outputs": [
        {
          "output_type": "execute_result",
          "data": {
            "text/plain": [
              "(90000, 3)"
            ]
          },
          "metadata": {},
          "execution_count": 12
        }
      ]
    },
    {
      "cell_type": "code",
      "metadata": {
        "colab": {
          "base_uri": "https://localhost:8080/"
        },
        "id": "AYslonL5FQyk",
        "outputId": "97f66650-6477-49ce-9e5b-1871b015e7e2"
      },
      "source": [
        "test_data.shape"
      ],
      "execution_count": null,
      "outputs": [
        {
          "output_type": "execute_result",
          "data": {
            "text/plain": [
              "(10000, 3)"
            ]
          },
          "metadata": {},
          "execution_count": 13
        }
      ]
    },
    {
      "cell_type": "code",
      "metadata": {
        "colab": {
          "base_uri": "https://localhost:8080/"
        },
        "id": "rsQzU6ga71rU",
        "outputId": "73f9d072-b226-4b88-d2be-c0264a4d9041"
      },
      "source": [
        "\n",
        "# define parameters of the latent factor model\n",
        "#iterations is num_epochs\n",
        "num_epochs = 40\n",
        "mu = 0.01\n",
        "lambda_ = 0.1\n",
        "\n",
        "num_factors = 25\n",
        "\n",
        "# store rmse, cost at each iteration\n",
        "rmse_cost_plot = np.zeros((num_epochs,5))\n",
        "\n",
        "# latent factor model\n",
        "lf = latentfactormodel(num_items + 1, num_users + 1, num_factors)\n",
        "\n",
        "print(\"{:<15} {:<15} {:<15} \".format('Iteration', 'Train RMSE', 'Test TMSE'))\n",
        "epochs = 0\n",
        "\n",
        "rmse_cost_plot[epochs,0] = epochs\n",
        "rmse_cost_plot[epochs,1], rmse_cost_plot[epochs,2] = lf.error(train_data), lf.error(test_data)\n",
        "rmse_cost_plot[epochs,3], rmse_cost_plot[epochs,4] = lf.cost(train_data,lambda_), lf.cost(test_data, lambda_)\n",
        "\n",
        "start = time.time()\n",
        "# performing Stochastic Gradient Descent for fixed number of epochs\n",
        "for epochs in range(num_epochs):\n",
        "  for ran in np.random.permutation(train_data.shape[0]):\n",
        "    # performing SGD for the train data set\n",
        "    lf.step(*train_data[ran], mu, lambda_,)\n",
        "\n",
        "  # rmse and costs are assigned to variables\n",
        "  rmse_cost_plot[epochs,0] = epochs\n",
        "  rmse_cost_plot[epochs,1], rmse_cost_plot[epochs,2]  =  lf.error(train_data), lf.error(test_data)\n",
        "  rmse_cost_plot[epochs,3], rmse_cost_plot[epochs,4] = lf.cost(train_data,lambda_), lf.cost(test_data, lambda_)\n",
        "\n",
        "  print(\"{:<15} {:<15} {:<15} \".format(epochs, lf.error(train_data), lf.error(test_data)))\n",
        "\n",
        "print('Total CPU time = ', time.time() - start)"
      ],
      "execution_count": null,
      "outputs": [
        {
          "output_type": "stream",
          "name": "stdout",
          "text": [
            "Iteration       Train RMSE      Test TMSE       \n",
            "0               0.9827          0.9989          \n",
            "1               0.9428          0.9704          \n",
            "2               0.9311          0.9609          \n",
            "3               0.9232          0.9563          \n",
            "4               0.9213          0.9553          \n",
            "5               0.9189          0.9551          \n",
            "6               0.9154          0.9545          \n",
            "7               0.913           0.9522          \n",
            "8               0.9057          0.9471          \n",
            "9               0.9033          0.9459          \n",
            "10              0.898           0.9451          \n",
            "11              0.8935          0.9425          \n",
            "12              0.8866          0.9366          \n",
            "13              0.8835          0.9377          \n",
            "14              0.8747          0.9308          \n",
            "15              0.871           0.9284          \n",
            "16              0.864           0.9266          \n",
            "17              0.8596          0.9241          \n",
            "18              0.8535          0.9235          \n",
            "19              0.848           0.9224          \n",
            "20              0.8415          0.9217          \n",
            "21              0.8368          0.9182          \n",
            "22              0.833           0.919           \n",
            "23              0.8271          0.9172          \n",
            "24              0.8239          0.9171          \n",
            "25              0.8186          0.916           \n",
            "26              0.8124          0.9141          \n",
            "27              0.8067          0.9131          \n",
            "28              0.8022          0.9096          \n",
            "29              0.7976          0.9114          \n",
            "30              0.7921          0.9091          \n",
            "31              0.7894          0.9109          \n",
            "32              0.7839          0.9056          \n",
            "33              0.7816          0.9099          \n",
            "34              0.7783          0.9074          \n",
            "35              0.7725          0.9073          \n",
            "36              0.7694          0.9081          \n",
            "37              0.7669          0.9084          \n",
            "38              0.7646          0.91            \n",
            "39              0.7599          0.9066          \n",
            "Total CPU time =  230.08739304542542\n"
          ]
        }
      ]
    },
    {
      "cell_type": "markdown",
      "metadata": {
        "id": "ffWLeG0eBk5c"
      },
      "source": [
        "Plotting RMSE and Error"
      ]
    },
    {
      "cell_type": "code",
      "metadata": {
        "colab": {
          "base_uri": "https://localhost:8080/",
          "height": 513
        },
        "id": "AmgaDspt78Wz",
        "outputId": "16ca12de-c24d-4aca-afbe-a9c772f224da"
      },
      "source": [
        "# RMSE vs N where N(0-40)\n",
        "fig, ax = plt.subplots(1,1,figsize=(15,8))\n",
        "\n",
        "ax.plot(rmse_cost_plot[:,0], rmse_cost_plot[:,2],'go-', lw=1, ms=7, mew=2, fillstyle='none', label='RMSE')\n",
        "\n",
        "ax.grid()\n",
        "ax.set_xlabel('N')\n",
        "ax.set_ylabel('RMSE')\n",
        "ax.set_title('Test dataset - N vs RMSE ')\n",
        "ax.legend(loc='upper right')\n",
        "\n",
        "plt.show()"
      ],
      "execution_count": null,
      "outputs": [
        {
          "output_type": "display_data",
          "data": {
            "image/png": "[encoded data removed]",
            "text/plain": [
              "<Figure size 1080x576 with 1 Axes>"
            ]
          },
          "metadata": {
            "needs_background": "light"
          }
        }
      ]
    },
    {
      "cell_type": "code",
      "metadata": {
        "colab": {
          "base_uri": "https://localhost:8080/",
          "height": 530
        },
        "id": "6hmLRpwYB2aN",
        "outputId": "1b171382-f6f8-48bb-93fb-d828cd8cb107"
      },
      "source": [
        "#plotting the error function and N(0-40)\n",
        "fig, ax = plt.subplots(1,1,figsize=(15,8))\n",
        "ax.plot(rmse_cost_plot[:,0], rmse_cost_plot[:,3], 'mo-', lw=1, ms=7, mew=2, fillstyle='none',  label='Error function')\n",
        "\n",
        "ax.grid()\n",
        "ax.set_xlabel('N')\n",
        "ax.set_ylabel('E')\n",
        "ax.set_title('Error function vs N')\n",
        "ax.legend(loc='upper right')\n"
      ],
      "execution_count": null,
      "outputs": [
        {
          "output_type": "execute_result",
          "data": {
            "text/plain": [
              "<matplotlib.legend.Legend at 0x7f957e72a690>"
            ]
          },
          "metadata": {},
          "execution_count": 16
        },
        {
          "output_type": "display_data",
          "data": {
            "image/png": "[encoded data removed]",
            "text/plain": [
              "<Figure size 1080x576 with 1 Axes>"
            ]
          },
          "metadata": {
            "needs_background": "light"
          }
        }
      ]
    },
    {
      "cell_type": "markdown",
      "metadata": {
        "id": "mGvylzunRLAk"
      },
      "source": [
        "TUNING HYPERPARAMETERS\n"
      ]
    },
    {
      "cell_type": "code",
      "metadata": {
        "colab": {
          "base_uri": "https://localhost:8080/"
        },
        "id": "WJfyghbT-CjZ",
        "outputId": "19ee9742-bc3e-4923-84ae-72b3157590f2"
      },
      "source": [
        "#tuning parameters mu and number of iterations\n",
        "num_epochs = 50\n",
        "mu = 0.001\n",
        "lambda_ = 0.1\n",
        "\n",
        "num_factors = 25\n",
        "# store rmse, cost at each iteration\n",
        "rmse_cost_plot = np.zeros((num_epochs,5))\n",
        "\n",
        "# latent factor model\n",
        "lf = latentfactormodel(num_items + 1, num_users + 1, num_factors)\n",
        "\n",
        "print(\"{:<15} {:<15} {:<15} \".format('Iteration', 'Train RMSE', 'Test TMSE'))\n",
        "epochs = 0\n",
        "\n",
        "rmse_cost_plot[epochs,0] = epochs\n",
        "rmse_cost_plot[epochs,1], rmse_cost_plot[epochs,2] = lf.error(train_data), lf.error(test_data)\n",
        "rmse_cost_plot[epochs,3], rmse_cost_plot[epochs,4] = lf.cost(train_data,lambda_), lf.cost(test_data, lambda_)\n",
        "\n",
        "start = time.time()\n",
        "# performing Stochastic Gradient Descent for fixed number of epochs\n",
        "for epochs in range(num_epochs):\n",
        "  for ran in np.random.permutation(train_data.shape[0]):\n",
        "    # performing SGD for the train data set\n",
        "    lf.step(*train_data[ran], mu, lambda_,)\n",
        "\n",
        "  # rmse and costs are assigned to variables\n",
        "  rmse_cost_plot[epochs,0] = epochs\n",
        "  rmse_cost_plot[epochs,1], rmse_cost_plot[epochs,2]  =  lf.error(train_data), lf.error(test_data)\n",
        "  rmse_cost_plot[epochs,3], rmse_cost_plot[epochs,4] = lf.cost(train_data,lambda_), lf.cost(test_data, lambda_)\n",
        "\n",
        "  print(\"{:<15} {:<15} {:<15} \".format(epochs, lf.error(train_data), lf.error(test_data)))"
      ],
      "execution_count": null,
      "outputs": [
        {
          "output_type": "stream",
          "name": "stdout",
          "text": [
            "Iteration       Train RMSE      Test TMSE       \n",
            "0               1.7711          1.7809          \n",
            "1               1.3655          1.3771          \n",
            "2               1.2039          1.2157          \n",
            "3               1.1235          1.1358          \n",
            "4               1.075           1.0883          \n",
            "5               1.0425          1.0571          \n",
            "6               1.0193          1.0351          \n",
            "7               1.0023          1.0194          \n",
            "8               0.989           1.007           \n",
            "9               0.9784          0.9976          \n",
            "10              0.9699          0.9898          \n",
            "11              0.9631          0.9839          \n",
            "12              0.9573          0.9789          \n",
            "13              0.9525          0.9748          \n",
            "14              0.9483          0.9714          \n",
            "15              0.9449          0.9685          \n",
            "16              0.9417          0.9659          \n",
            "17              0.939           0.9636          \n",
            "18              0.9367          0.9619          \n",
            "19              0.9346          0.9604          \n",
            "20              0.9329          0.959           \n",
            "21              0.9311          0.9577          \n",
            "22              0.9296          0.9566          \n",
            "23              0.9281          0.9556          \n",
            "24              0.927           0.9547          \n",
            "25              0.926           0.954           \n",
            "26              0.9249          0.9531          \n",
            "27              0.9241          0.9525          \n",
            "28              0.9234          0.9522          \n",
            "29              0.9223          0.9515          \n",
            "30              0.9216          0.951           \n",
            "31              0.921           0.9506          \n",
            "32              0.9205          0.9505          \n",
            "33              0.9196          0.9498          \n",
            "34              0.9191          0.9496          \n",
            "35              0.9184          0.949           \n",
            "36              0.9181          0.9491          \n",
            "37              0.9176          0.9487          \n",
            "38              0.9171          0.9483          \n",
            "39              0.9166          0.9481          \n",
            "40              0.9163          0.9478          \n",
            "41              0.9156          0.9474          \n",
            "42              0.9154          0.9474          \n",
            "43              0.9152          0.9475          \n",
            "44              0.9146          0.947           \n",
            "45              0.9144          0.9469          \n",
            "46              0.9139          0.9466          \n",
            "47              0.9138          0.9466          \n",
            "48              0.9134          0.9464          \n",
            "49              0.9131          0.9462          \n"
          ]
        }
      ]
    },
    {
      "cell_type": "code",
      "metadata": {
        "colab": {
          "base_uri": "https://localhost:8080/",
          "height": 530
        },
        "id": "wpozDq2KKyr5",
        "outputId": "675ca118-5f86-4254-8b45-7a7d789f7f3d"
      },
      "source": [
        "#plotting the error function and N(0-40)\n",
        "fig, ax = plt.subplots(1,1,figsize=(10,8))\n",
        "ax.plot(rmse_cost_plot[:,0], rmse_cost_plot[:,3], 'mo-', lw=1, ms=7, mew=2, fillstyle='none',  label='Error function')\n",
        "\n",
        "ax.grid()\n",
        "ax.set_xlabel('N')\n",
        "ax.set_ylabel('E')\n",
        "ax.set_title('Error function vs N')\n",
        "ax.legend(loc='upper right')"
      ],
      "execution_count": null,
      "outputs": [
        {
          "output_type": "execute_result",
          "data": {
            "text/plain": [
              "<matplotlib.legend.Legend at 0x7f957e8d6c90>"
            ]
          },
          "metadata": {},
          "execution_count": 18
        },
        {
          "output_type": "display_data",
          "data": {
            "image/png": "[encoded data removed]",
            "text/plain": [
              "<Figure size 720x576 with 1 Axes>"
            ]
          },
          "metadata": {
            "needs_background": "light"
          }
        }
      ]
    }
  ]
}